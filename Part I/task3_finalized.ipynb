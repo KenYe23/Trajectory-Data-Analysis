{
 "cells": [
  {
   "cell_type": "markdown",
   "id": "ab2d2f97-6f72-40bf-93d5-4af4b57922a5",
   "metadata": {},
   "source": [
    "# Task 3: Comparing Trajectory Paths"
   ]
  },
  {
   "cell_type": "code",
   "execution_count": 1,
   "id": "786ae179-8758-45b8-b9a7-1b6b11fbb87f",
   "metadata": {
    "tags": []
   },
   "outputs": [],
   "source": [
    "# dependencies\n",
    "\n",
    "import pandas as pd\n",
    "import seaborn as sns\n",
    "import matplotlib.pyplot as plt\n",
    "from typing import Tuple, List"
   ]
  },
  {
   "cell_type": "code",
   "execution_count": 2,
   "id": "4c0fbac5-3544-40db-868f-b7f7fcbc5506",
   "metadata": {
    "tags": []
   },
   "outputs": [],
   "source": [
    "dataset = pd.read_csv('data/geolife-cars.csv')"
   ]
  },
  {
   "cell_type": "markdown",
   "id": "cba29dfd-fa55-4e2d-8e69-1b7507a43b45",
   "metadata": {},
   "source": [
    "## Task Function Setup"
   ]
  },
  {
   "cell_type": "code",
   "execution_count": 3,
   "id": "ffb409c8-112b-4d07-93c3-6c80eb29cf17",
   "metadata": {
    "tags": []
   },
   "outputs": [],
   "source": [
    "#Function: computes distance\n",
    "def dist(a, b):\n",
    "    return ((a[0] - b[0]) ** 2 + (a[1] - b[1]) ** 2) ** 0.5"
   ]
  },
  {
   "cell_type": "code",
   "execution_count": 4,
   "id": "4f8a8741-812e-4595-9f1e-a3b96b4aea2e",
   "metadata": {
    "tags": []
   },
   "outputs": [],
   "source": [
    "def dtw(seriesA, seriesB):\n",
    "    m, n = len(seriesA) + 1, len(seriesB) + 1\n",
    "    dp = [[[float('inf'), set()] for _ in range(n)] for _ in range(m)]\n",
    "    dp[0][0] = [0, None]\n",
    "\n",
    "    for i in range(m - 1):\n",
    "        for j in range(n - 1):\n",
    "            curr = dp[i][j]\n",
    "            curr[0] += dist(seriesA[i], seriesB[j]) ** 2\n",
    "            if curr[0] < dp[i + 1][j][0]: dp[i + 1][j] = [curr[0], (i, j)]\n",
    "            if curr[0] < dp[i][j + 1][0]: dp[i][j + 1] = [curr[0], (i, j)]\n",
    "            if curr[0] < dp[i + 1][j + 1][0]: dp[i + 1][j + 1] = [curr[0], (i, j)]\n",
    "    \n",
    "    total_cost, last = dp[len(seriesA) - 1][len(seriesB) - 1]\n",
    "    \n",
    "    path = {(len(seriesA) - 1, len(seriesB) - 1)}\n",
    "    while last is not None:\n",
    "        path.add(last)\n",
    "        last = dp[last[0]][last[1]][1]\n",
    "\n",
    "    return total_cost / len(path), path"
   ]
  },
  {
   "cell_type": "code",
   "execution_count": 5,
   "id": "0cacaad4-2d25-41e6-9295-b53965bb9513",
   "metadata": {
    "tags": []
   },
   "outputs": [],
   "source": [
    "def fd(seriesA, seriesB):\n",
    "    m, n = len(seriesA) + 1, len(seriesB) + 1\n",
    "    dp = [[[float('inf'), set()] for _ in range(n)] for _ in range(m)]\n",
    "    dp[0][0] = [0, None]\n",
    "\n",
    "    for i in range(m - 1):\n",
    "        for j in range(n - 1):\n",
    "            curr = dp[i][j]\n",
    "            curr[0] = max(curr[0], dist(seriesA[i], seriesB[j]))\n",
    "            if curr[0] < dp[i + 1][j][0]: dp[i + 1][j] = [curr[0], (i, j)]\n",
    "            if curr[0] < dp[i][j + 1][0]: dp[i][j + 1] = [curr[0], (i, j)]\n",
    "            if curr[0] < dp[i + 1][j + 1][0]: dp[i + 1][j + 1] = [curr[0], (i, j)]\n",
    "    \n",
    "    total_cost, last = dp[len(seriesA) - 1][len(seriesB) - 1]\n",
    "    \n",
    "    path = {(len(seriesA) - 1, len(seriesB) - 1)}\n",
    "    while last is not None:\n",
    "        path.add(last)\n",
    "        last = dp[last[0]][last[1]][1]\n",
    "    \n",
    "    return total_cost, path"
   ]
  },
  {
   "cell_type": "markdown",
   "id": "929520ea-ab4f-4245-9bab-b62a41fe3860",
   "metadata": {},
   "source": [
    "## 5.2.2-3: Plotting histograms of Eavg and Emax"
   ]
  },
  {
   "cell_type": "code",
   "execution_count": 6,
   "id": "cfa7354a-86c6-4b1b-9f17-5a412b0ec6d9",
   "metadata": {
    "tags": []
   },
   "outputs": [],
   "source": [
    "#Histograms for 3 trajectory pairs\n",
    "pairs = [\n",
    "    ('128-20080503104400', '128-20080509135846'),\n",
    "    ('010-20081016113953', '010-20080923124453'),\n",
    "    ('115-20080520225850', '115-20080615225707')\n",
    "]"
   ]
  },
  {
   "cell_type": "code",
   "execution_count": 7,
   "id": "bd9f0678-a99f-4549-b431-f27047f359ad",
   "metadata": {
    "tags": []
   },
   "outputs": [
    {
     "data": {
      "image/png": "[encoded data removed]",
      "text/plain": [
       "<Figure size 432x288 with 2 Axes>"
      ]
     },
     "metadata": {
      "needs_background": "light"
     },
     "output_type": "display_data"
    },
    {
     "data": {
      "image/png": "[encoded data removed]",
      "text/plain": [
       "<Figure size 432x288 with 2 Axes>"
      ]
     },
     "metadata": {
      "needs_background": "light"
     },
     "output_type": "display_data"
    },
    {
     "data": {
      "image/png": "[encoded data removed]",
      "text/plain": [
       "<Figure size 432x288 with 2 Axes>"
      ]
     },
     "metadata": {
      "needs_background": "light"
     },
     "output_type": "display_data"
    }
   ],
   "source": [
    "#Plotting 3 trajectory pairs \n",
    "for a, b in pairs:\n",
    "    seriesA = list(dataset[dataset.id_ == a][['x', 'y']].itertuples(index=False, name=None))\n",
    "    seriesB = list(dataset[dataset.id_ == b][['x', 'y']].itertuples(index=False, name=None))\n",
    "    \n",
    "    cost_avg, e_avg = dtw(seriesA, seriesB)\n",
    "    cost_max, e_max = fd(seriesA, seriesB)\n",
    "    \n",
    "    dist_avg = [dist(seriesA[ai], seriesB[bi]) for ai, bi in e_avg]\n",
    "    dist_max = [dist(seriesA[ai], seriesB[bi]) for ai, bi in e_max]\n",
    "    \n",
    "    fig, ax = plt.subplots(nrows=1, ncols=2)\n",
    "    sns.histplot(dist_avg, alpha=1, color = 'pink', label='$E_{avg}$', ax = ax[0])\n",
    "    sns.histplot(dist_max, alpha=1, label='$E_{max}$', ax = ax[1])\n",
    "    #print(dist_avg)\n",
    "    #print(dist_max)\n",
    "\n",
    "    ax[0].legend(['$E_{avg}$'])\n",
    "    ax[1].legend(['$E_{max}$'])\n",
    "    ax[0].set_xlabel('Value(bin)')\n",
    "    ax[0].set_ylabel('Frequency')\n",
    "    ax[1].set_xlabel('Value(bin)')\n",
    "    ax[1].set_ylabel('Frequency')\n",
    "    plt.tight_layout()\n",
    "    \n",
    "    plt.show()"
   ]
  },
  {
   "cell_type": "code",
   "execution_count": 8,
   "id": "dee8fd19",
   "metadata": {},
   "outputs": [],
   "source": [
    "#Import functions to calculate ε-simplications from Task 2\n",
    "\n",
    "def TS_greedy(T: List[Tuple[float, float]], eps: float) -> List[Tuple[float, float]]:\n",
    "    if len(T) < 3:\n",
    "        # Base case, the trajectory cannot be simplified further\n",
    "        return T\n",
    "    else:\n",
    "        # Initialize the simplified trajectory, T_star, with the first and last points of the trajectory\n",
    "        T_star = [T[0], T[-1]]\n",
    "        # Find the point with max distance\n",
    "        dmax = 0\n",
    "        index = 0\n",
    "        for i in range(1, len(T) - 1):\n",
    "            dis = d(T[i], T_star)\n",
    "            if dis > dmax:\n",
    "                index = i \n",
    "                dmax = dis\n",
    "        # Check if the epsilon criterion is met\n",
    "        if dmax <= eps: \n",
    "            # T_star is sufficient to represent the current trajectory within max error epsilon\n",
    "            return T_star \n",
    "        else:\n",
    "            # Max distance > epsilon\n",
    "            # Recurse on left and right, seperated by the point with max distance;\n",
    "            return TS_greedy(T[0:index], eps) + TS_greedy(T[index:], eps) \n",
    "        \n",
    "def d(q: Tuple[float, float], e: List[Tuple[float, float]]) -> float:\n",
    "    # Let the start point of e be a, and end point be b \n",
    "    a, b = e\n",
    "    # Compute the dot product of vectors aq and ab\n",
    "    dot_product = (q[0] - a[0]) * (b[0] - a[0]) + (q[1] - a[1]) * (b[1] - a[1])\n",
    "    # Compute the length of ab (squared)\n",
    "    ab_length_sq = (b[0] - a[0]) ** 2 + (b[1] - a[1]) ** 2\n",
    "    # Compute the projection of vector aq onto vector ab\n",
    "    projection = dot_product / ab_length_sq\n",
    "    if projection <= 0:\n",
    "        # Point q is closest to the start point (a) of line segment e\n",
    "        return ((q[0] - a[0]) ** 2 + (q[1] - a[1]) ** 2) ** 0.5\n",
    "    elif projection >= 1:\n",
    "        # Point q is closest to the end point (b) of line segment e \n",
    "        return ((q[0] - b[0]) ** 2 + (q[1] - b[1]) ** 2) ** 0.5\n",
    "    else:\n",
    "        # Point q is closest to the point on line segment e between its start (a) and end (b) points\n",
    "        closest_x = a[0] + projection * (b[0] - a[0])\n",
    "        closest_y = a[1] + projection * (b[1] - a[1])\n",
    "        return ((q[0] - closest_x) ** 2 + (q[1] - closest_y) ** 2) ** 0.5"
   ]
  },
  {
   "cell_type": "code",
   "execution_count": 9,
   "id": "4b29d686-12d7-4fde-a4a2-9a4da393b642",
   "metadata": {},
   "outputs": [],
   "source": [
    "#Histograms for Simplifications\n",
    "\n",
    "#Import T1 and T2\n",
    "df = dataset\n",
    "trajec1 = df[df[\"id_\" ] == \"115-20080520225850\"]\n",
    "tA = list(zip(trajec1.x, trajec1.y))\n",
    "\n",
    "trajec2 = df[df[\"id_\" ] == \"115-20080615225707\"]\n",
    "tB = list(zip(trajec2.x, trajec2.y))\n",
    "\n",
    "#Compute epsilon-simplifications\n",
    "A003 = TS_greedy(tA, 0.03)\n",
    "B003 = TS_greedy(tB, 0.03)\n",
    "A01 = TS_greedy(tA, 0.1)\n",
    "B01 = TS_greedy(tB, 0.1)\n",
    "A03 = TS_greedy(tA, 0.3)\n",
    "B03 = TS_greedy(tB, 0.3)"
   ]
  },
  {
   "cell_type": "code",
   "execution_count": 10,
   "id": "1cc49f14",
   "metadata": {},
   "outputs": [
    {
     "data": {
      "image/png": "[encoded data removed]",
      "text/plain": [
       "<Figure size 432x288 with 1 Axes>"
      ]
     },
     "metadata": {
      "needs_background": "light"
     },
     "output_type": "display_data"
    },
    {
     "data": {
      "image/png": "[encoded data removed]",
      "text/plain": [
       "<Figure size 432x288 with 1 Axes>"
      ]
     },
     "metadata": {
      "needs_background": "light"
     },
     "output_type": "display_data"
    },
    {
     "data": {
      "image/png": "[encoded data removed]",
      "text/plain": [
       "<Figure size 432x288 with 1 Axes>"
      ]
     },
     "metadata": {
      "needs_background": "light"
     },
     "output_type": "display_data"
    }
   ],
   "source": [
    "#Format Data\n",
    "pairs1 = [\n",
    "    (A003, B003),\n",
    "    (A01, B01),\n",
    "    (A03, B03)\n",
    "]\n",
    "\n",
    "#Plotting histograms for simplifications with ε = 0.03, 0.1, 0.3\n",
    "\n",
    "for a, b in pairs1:\n",
    "    cost_avg, e_avg = dtw(a, b)\n",
    "    cost_max, e_max = fd(a, b)\n",
    "    \n",
    "    dist_avg = [dist(a[ai], b[bi]) for ai, bi in e_avg]\n",
    "    dist_max = [dist(a[ai], b[bi]) for ai, bi in e_max]\n",
    "    \n",
    "    \n",
    "    sns.histplot(dist_avg, alpha=1, color = 'pink', label='$E_{avg}$')\n",
    "\n",
    "    plt.legend(['$E_{avg}$'])\n",
    "    plt.xlabel('Value (bins)')\n",
    "    plt.ylabel('Frequency')\n",
    "    plt.tight_layout()\n",
    "    plt.show()"
   ]
  },
  {
   "cell_type": "code",
   "execution_count": null,
   "id": "e67e8ac6",
   "metadata": {},
   "outputs": [],
   "source": []
  }
 ],
 "metadata": {
  "kernelspec": {
   "display_name": "Python 3 (ipykernel)",
   "language": "python",
   "name": "python3"
  },
  "language_info": {
   "codemirror_mode": {
    "name": "ipython",
    "version": 3
   },
   "file_extension": ".py",
   "mimetype": "text/x-python",
   "name": "python",
   "nbconvert_exporter": "python",
   "pygments_lexer": "ipython3",
   "version": "3.10.9"
  }
 },
 "nbformat": 4,
 "nbformat_minor": 5
}
