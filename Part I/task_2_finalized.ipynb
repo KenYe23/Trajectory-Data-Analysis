{
 "cells": [
  {
   "cell_type": "code",
   "execution_count": 1,
   "metadata": {},
   "outputs": [],
   "source": [
    "from typing import Tuple, List\n",
    "import pandas as pd\n",
    "import matplotlib.pyplot as plt"
   ]
  },
  {
   "cell_type": "code",
   "execution_count": 2,
   "metadata": {
    "colab": {
     "base_uri": "https://localhost:8080/",
     "height": 74
    },
    "id": "rJ1sUZt2E0DC",
    "outputId": "a1b1c00f-5031-424d-a40c-1df396d109b6"
   },
   "outputs": [],
   "source": [
    "df = pd.read_csv('data/geolife-cars.csv')\n",
    "cars_10 = pd.read_csv('data/geolife-cars-ten-percent.csv')\n",
    "cars_30 = pd.read_csv('data/geolife-cars-thirty-percent.csv')\n",
    "cars_60 = pd.read_csv('data/geolife-cars-sixty-percent.csv')"
   ]
  },
  {
   "cell_type": "code",
   "execution_count": 3,
   "metadata": {
    "colab": {
     "base_uri": "https://localhost:8080/",
     "height": 206
    },
    "id": "R2oY8TvzFTq9",
    "outputId": "5e341f9e-3871-40f1-cc1e-8f1def96aecc"
   },
   "outputs": [
    {
     "data": {
      "text/html": [
       "<div>\n",
       "<style scoped>\n",
       "    .dataframe tbody tr th:only-of-type {\n",
       "        vertical-align: middle;\n",
       "    }\n",
       "\n",
       "    .dataframe tbody tr th {\n",
       "        vertical-align: top;\n",
       "    }\n",
       "\n",
       "    .dataframe thead th {\n",
       "        text-align: right;\n",
       "    }\n",
       "</style>\n",
       "<table border=\"1\" class=\"dataframe\">\n",
       "  <thead>\n",
       "    <tr style=\"text-align: right;\">\n",
       "      <th></th>\n",
       "      <th>date</th>\n",
       "      <th>id_</th>\n",
       "      <th>x</th>\n",
       "      <th>y</th>\n",
       "    </tr>\n",
       "  </thead>\n",
       "  <tbody>\n",
       "    <tr>\n",
       "      <th>0</th>\n",
       "      <td>2008-05-17 07:38:36</td>\n",
       "      <td>085-20080517073836</td>\n",
       "      <td>-15.366613</td>\n",
       "      <td>0.534397</td>\n",
       "    </tr>\n",
       "    <tr>\n",
       "      <th>1</th>\n",
       "      <td>2008-05-17 07:38:38</td>\n",
       "      <td>085-20080517073836</td>\n",
       "      <td>-15.365054</td>\n",
       "      <td>0.531723</td>\n",
       "    </tr>\n",
       "    <tr>\n",
       "      <th>2</th>\n",
       "      <td>2008-05-17 07:38:40</td>\n",
       "      <td>085-20080517073836</td>\n",
       "      <td>-15.361270</td>\n",
       "      <td>0.529248</td>\n",
       "    </tr>\n",
       "    <tr>\n",
       "      <th>3</th>\n",
       "      <td>2008-05-17 07:38:42</td>\n",
       "      <td>085-20080517073836</td>\n",
       "      <td>-15.354479</td>\n",
       "      <td>0.527664</td>\n",
       "    </tr>\n",
       "    <tr>\n",
       "      <th>4</th>\n",
       "      <td>2008-05-17 07:38:44</td>\n",
       "      <td>085-20080517073836</td>\n",
       "      <td>-15.347689</td>\n",
       "      <td>0.526376</td>\n",
       "    </tr>\n",
       "  </tbody>\n",
       "</table>\n",
       "</div>"
      ],
      "text/plain": [
       "                  date                 id_          x         y\n",
       "0  2008-05-17 07:38:36  085-20080517073836 -15.366613  0.534397\n",
       "1  2008-05-17 07:38:38  085-20080517073836 -15.365054  0.531723\n",
       "2  2008-05-17 07:38:40  085-20080517073836 -15.361270  0.529248\n",
       "3  2008-05-17 07:38:42  085-20080517073836 -15.354479  0.527664\n",
       "4  2008-05-17 07:38:44  085-20080517073836 -15.347689  0.526376"
      ]
     },
     "execution_count": 3,
     "metadata": {},
     "output_type": "execute_result"
    }
   ],
   "source": [
    "df.head()"
   ]
  },
  {
   "cell_type": "markdown",
   "metadata": {
    "id": "RdkNp1JVbk1W"
   },
   "source": [
    "# Part 1: Computation of d(q,e)"
   ]
  },
  {
   "cell_type": "code",
   "execution_count": 4,
   "metadata": {
    "id": "aZIMrQkzESvS"
   },
   "outputs": [],
   "source": [
    "def d(q: Tuple[float, float], e: List[Tuple[float, float]]) -> float:\n",
    "    \"\"\"\n",
    "    Computes the distance between a point q and a line segment e.\n",
    "\n",
    "    Args:\n",
    "        q: A tuple representing the point q.\n",
    "        e: A list representing the line segment e as (a, b).\n",
    "\n",
    "    Returns:\n",
    "        The distance between the point q and the line segment e.\n",
    "    \"\"\"\n",
    "    # Let the start point of e be a, and end point be b \n",
    "    a, b = e\n",
    "    # Compute the dot product of vectors aq and ab\n",
    "    dot_product = (q[0] - a[0]) * (b[0] - a[0]) + (q[1] - a[1]) * (b[1] - a[1])\n",
    "    # Compute the length of ab (squared)\n",
    "    ab_length_sq = (b[0] - a[0]) ** 2 + (b[1] - a[1]) ** 2\n",
    "    # Compute the projection of vector aq onto vector ab\n",
    "    projection = dot_product / ab_length_sq\n",
    "    if projection <= 0:\n",
    "        # Point q is closest to the start point (a) of line segment e\n",
    "        return ((q[0] - a[0]) ** 2 + (q[1] - a[1]) ** 2) ** 0.5\n",
    "    elif projection >= 1:\n",
    "        # Point q is closest to the end point (b) of line segment e \n",
    "        return ((q[0] - b[0]) ** 2 + (q[1] - b[1]) ** 2) ** 0.5\n",
    "    else:\n",
    "        # Point q is closest to the point on line segment e between its start (a) and end (b) points\n",
    "        closest_x = a[0] + projection * (b[0] - a[0])\n",
    "        closest_y = a[1] + projection * (b[1] - a[1])\n",
    "        return ((q[0] - closest_x) ** 2 + (q[1] - closest_y) ** 2) ** 0.5"
   ]
  },
  {
   "cell_type": "markdown",
   "metadata": {
    "id": "_x73EXJ0boHO"
   },
   "source": [
    "# Part 2: TS-Greedy Algorithm"
   ]
  },
  {
   "cell_type": "code",
   "execution_count": 5,
   "metadata": {
    "id": "7_X4PiM9Ee-Z"
   },
   "outputs": [],
   "source": [
    "def TS_greedy(T: List[Tuple[float, float]], eps: float) -> List[Tuple[float, float]]:\n",
    "    \"\"\"\n",
    "    Computes an epsilon-simplification of the trajectory T using a greedy algorithm.\n",
    "\n",
    "    Arguments:\n",
    "        T: A list of tuples representing the trajectory T as [(x1, y1), ..., (xn, yn)].\n",
    "        eps: A float number representing the maximum error of the simplification.\n",
    "\n",
    "    Returns:\n",
    "        A list of tuples representing the epsilon-simplification of the trajectory T.\n",
    "    \"\"\"\n",
    "    if len(T) < 3:\n",
    "        # Base case, the trajectory cannot be simplified further\n",
    "        return T\n",
    "    else:\n",
    "        # Initialize the simplified trajectory, T_star, with the first and last points of the trajectory\n",
    "        T_star = [T[0], T[-1]]\n",
    "        # Find the point with max distance\n",
    "        dmax = 0\n",
    "        index = 0\n",
    "        for i in range(1, len(T) - 1):\n",
    "            dis = d(T[i], T_star)\n",
    "            if dis > dmax:\n",
    "                index = i \n",
    "                dmax = dis\n",
    "        # Check if the epsilon criterion is met\n",
    "        if dmax <= eps: \n",
    "            # T_star is sufficient to represent the current trajectory within max error epsilon\n",
    "            return T_star \n",
    "        else:\n",
    "            # Max distance > epsilon\n",
    "            # Recurse on left and right, seperated by the point with max distance;\n",
    "            return TS_greedy(T[0:index], eps) + TS_greedy(T[index:], eps) "
   ]
  },
  {
   "cell_type": "markdown",
   "metadata": {
    "id": "DQPnR6NRbpui"
   },
   "source": [
    "# Part 3: Plotting Simplified Trajectories with Different ε"
   ]
  },
  {
   "cell_type": "code",
   "execution_count": 6,
   "metadata": {
    "colab": {
     "base_uri": "https://localhost:8080/"
    },
    "id": "_aC08SGtFlUU",
    "outputId": "b007dc84-0867-4460-fe3e-967c018bcc44"
   },
   "outputs": [
    {
     "name": "stdout",
     "output_type": "stream",
     "text": [
      "The length of the orginal trajectory is: \n",
      "321\n"
     ]
    }
   ],
   "source": [
    "# filter out trajectory ID 128-20080503104400\n",
    "trajec = df[df[\"id_\" ] == \"128-20080503104400\"]\n",
    "# t stores the originial list\n",
    "t = list(zip(trajec.x, trajec.y))\n",
    "#print(t)\n",
    "print(\"The length of the orginal trajectory is: \")\n",
    "print(len(t))"
   ]
  },
  {
   "cell_type": "code",
   "execution_count": 7,
   "metadata": {
    "colab": {
     "base_uri": "https://localhost:8080/"
    },
    "id": "FcT3PGRrJ70o",
    "outputId": "de20a4b1-30c0-430b-f539-f747b396028d"
   },
   "outputs": [
    {
     "name": "stdout",
     "output_type": "stream",
     "text": [
      "The length of simplified trajectory 128-20080503104400 (ε = 0.03) is: \n",
      "32\n"
     ]
    }
   ],
   "source": [
    "# t_star_003 is the simplified list for eps = 0.03\n",
    "t_star_003 = TS_greedy(t, 0.03)\n",
    "#print(t_star_003)\n",
    "print(\"The length of simplified trajectory 128-20080503104400 (ε = 0.03) is: \")\n",
    "print(len(t_star_003))"
   ]
  },
  {
   "cell_type": "code",
   "execution_count": 8,
   "metadata": {
    "colab": {
     "base_uri": "https://localhost:8080/",
     "height": 308
    },
    "id": "7swRBUgLIm_U",
    "outputId": "dde79e61-6856-4120-bcab-19b104966dcf"
   },
   "outputs": [
    {
     "name": "stdout",
     "output_type": "stream",
     "text": [
      "This figure contains 128-20080503104400 and its simplification when ε = 0.03\n"
     ]
    },
    {
     "data": {
      "image/png": "[encoded data removed]",
      "text/plain": [
       "<Figure size 432x288 with 2 Axes>"
      ]
     },
     "metadata": {
      "needs_background": "light"
     },
     "output_type": "display_data"
    }
   ],
   "source": [
    "# plot t and t_star_003\n",
    "print(\"This figure contains 128-20080503104400 and its simplification when ε = 0.03\")\n",
    "fig, (ax1, ax2) = plt.subplots(1, 2)\n",
    "ax1.plot([p[0] for p in t], [p[1] for p in t], label = \"Original Trajectory\")\n",
    "ax2.plot([p[0] for p in t_star_003], [p[1] for p in t_star_003],'tab:orange', label = \"Simplified Trajectory\")\n",
    "plt.suptitle(\"       Original Trajectory        vs.        Simplified Tracjectory\")\n",
    "plt.title(\"(ε = 0.03)\", loc = 'center')\n",
    "ax1.set_xlabel(\"X-coordinate\")\n",
    "ax1.set_ylabel(\"Y-coordinate\")\n",
    "ax2.set_xlabel(\"X-coordinate\")\n",
    "ax2.set_ylabel(\"Y-coordinate\")\n",
    "plt.savefig('4.2-1.png')\n",
    "plt.show()"
   ]
  },
  {
   "cell_type": "code",
   "execution_count": 9,
   "metadata": {
    "colab": {
     "base_uri": "https://localhost:8080/"
    },
    "id": "EARwrnhZFk_d",
    "outputId": "6351850f-b4e6-45ae-e632-f7c53f3eaa4a"
   },
   "outputs": [
    {
     "name": "stdout",
     "output_type": "stream",
     "text": [
      "The length of simplified trajectory 128-20080503104400 (ε = 0.1) is: \n",
      "26\n"
     ]
    }
   ],
   "source": [
    "# t_star_01 is the simplified list for eps = 0.1\n",
    "t_star_01 = TS_greedy(t, 0.1)\n",
    "#print(t_star_01)\n",
    "print(\"The length of simplified trajectory 128-20080503104400 (ε = 0.1) is: \")\n",
    "print(len(t_star_01))"
   ]
  },
  {
   "cell_type": "code",
   "execution_count": 10,
   "metadata": {
    "colab": {
     "base_uri": "https://localhost:8080/",
     "height": 308
    },
    "id": "rqY-cC66KqnG",
    "outputId": "2f44e860-b329-4f68-db76-3290f889fa4f"
   },
   "outputs": [
    {
     "name": "stdout",
     "output_type": "stream",
     "text": [
      "This figure contains 128-20080503104400 and its simplification when ε = 0.1\n"
     ]
    },
    {
     "data": {
      "image/png": "[encoded data removed]",
      "text/plain": [
       "<Figure size 432x288 with 2 Axes>"
      ]
     },
     "metadata": {
      "needs_background": "light"
     },
     "output_type": "display_data"
    }
   ],
   "source": [
    "# plot t and t_star_01\n",
    "print(\"This figure contains 128-20080503104400 and its simplification when ε = 0.1\")\n",
    "fig, (ax1, ax2) = plt.subplots(1, 2)\n",
    "ax1.plot([p[0] for p in t], [p[1] for p in t], label = \"Original Trajectory\")\n",
    "ax2.plot([p[0] for p in t_star_01], [p[1] for p in t_star_01],'tab:orange', label = \"Simplified Trajectory\")\n",
    "plt.suptitle(\"       Original Trajectory        vs.        Simplified Tracjectory\")\n",
    "plt.title(\"(ε = 0.1)\", loc = 'center')\n",
    "ax1.set_xlabel(\"X-coordinate\")\n",
    "ax1.set_ylabel(\"Y-coordinate\")\n",
    "ax2.set_xlabel(\"X-coordinate\")\n",
    "ax2.set_ylabel(\"Y-coordinate\")\n",
    "plt.savefig('4.2-2.png')\n",
    "plt.show()"
   ]
  },
  {
   "cell_type": "code",
   "execution_count": 11,
   "metadata": {
    "colab": {
     "base_uri": "https://localhost:8080/"
    },
    "id": "wG4KAamyKqkO",
    "outputId": "c02a59cd-d5ae-4280-8960-1e9090262e2c"
   },
   "outputs": [
    {
     "name": "stdout",
     "output_type": "stream",
     "text": [
      "The length of simplified trajectory 128-20080503104400 (ε = 0.3) is: \n",
      "8\n"
     ]
    }
   ],
   "source": [
    "# t_star_03 is the simplified list for eps = 0.3\n",
    "t_star_03 = TS_greedy(t, 0.3)\n",
    "#print(t_star_03)\n",
    "print(\"The length of simplified trajectory 128-20080503104400 (ε = 0.3) is: \")\n",
    "print(len(t_star_03))"
   ]
  },
  {
   "cell_type": "code",
   "execution_count": 12,
   "metadata": {
    "colab": {
     "base_uri": "https://localhost:8080/",
     "height": 308
    },
    "id": "EPBQuR_KKqbV",
    "outputId": "fee500dc-c9b1-4a18-c2ef-5e6863554ca5"
   },
   "outputs": [
    {
     "name": "stdout",
     "output_type": "stream",
     "text": [
      "This figure contains 128-20080503104400 and its simplification when ε = 0.3\n"
     ]
    },
    {
     "data": {
      "image/png": "[encoded data removed]",
      "text/plain": [
       "<Figure size 432x288 with 2 Axes>"
      ]
     },
     "metadata": {
      "needs_background": "light"
     },
     "output_type": "display_data"
    }
   ],
   "source": [
    "# plot t and t_star_03\n",
    "print(\"This figure contains 128-20080503104400 and its simplification when ε = 0.3\")\n",
    "fig, (ax1, ax2) = plt.subplots(1, 2)\n",
    "ax1.plot([p[0] for p in t], [p[1] for p in t], label = \"Original Trajectory\")\n",
    "ax2.plot([p[0] for p in t_star_03], [p[1] for p in t_star_03],'tab:orange', label = \"Simplified Trajectory\")\n",
    "plt.suptitle(\"       Original Trajectory        vs.        Simplified Tracjectory\")\n",
    "plt.title(\"(ε = 0.3)\", loc = 'center')\n",
    "ax1.set_xlabel(\"X-coordinate\")\n",
    "ax1.set_ylabel(\"Y-coordinate\")\n",
    "ax2.set_xlabel(\"X-coordinate\")\n",
    "ax2.set_ylabel(\"Y-coordinate\")\n",
    "plt.savefig('4.2-3.png')\n",
    "plt.show()\n"
   ]
  },
  {
   "cell_type": "markdown",
   "metadata": {
    "id": "rwCOersfbsLj"
   },
   "source": [
    "# Part 4: Compression Ratio Calculation"
   ]
  },
  {
   "cell_type": "code",
   "execution_count": 13,
   "metadata": {
    "colab": {
     "base_uri": "https://localhost:8080/"
    },
    "id": "yVki1c80Px6d",
    "outputId": "5c8e7011-0615-44b9-c130-2fc23b54db08"
   },
   "outputs": [
    {
     "name": "stdout",
     "output_type": "stream",
     "text": [
      "The compression ratio |T|/|T′| for trajectory 128-20080503104400, using TS-greedy for epsilon = 0.03, is: \n",
      "10.03125\n"
     ]
    }
   ],
   "source": [
    "# compression ratio |T|/|T′| for trajectory 128-20080503104400, using TS-greedy for epsilon = 0.03\n",
    "print(\"The compression ratio |T|/|T′| for trajectory 128-20080503104400, using TS-greedy for epsilon = 0.03, is: \")\n",
    "print(len(t)/len(t_star_003))"
   ]
  },
  {
   "cell_type": "code",
   "execution_count": 14,
   "metadata": {
    "colab": {
     "base_uri": "https://localhost:8080/"
    },
    "id": "Hal9zCqcP9T8",
    "outputId": "a198445a-658d-4808-9f84-c2b1b4a0e7c7"
   },
   "outputs": [
    {
     "name": "stdout",
     "output_type": "stream",
     "text": [
      "The compression ratio |T|/|T′| for trajectory 010-20081016113953, using TS-greedy for epsilon = 0.03, is: \n",
      "27.15\n"
     ]
    }
   ],
   "source": [
    "# compression ratio |T|/|T′| for trajectory 010-20081016113953, using TS-greedy for epsilon = 0.03\n",
    "# filter out trajectory ID 010-20081016113953\n",
    "trajec2 = df[df[\"id_\" ] == \"010-20081016113953\"]\n",
    "t2 = list(zip(trajec2.x, trajec2.y))\n",
    "t2_star_003 = TS_greedy(t2, 0.03)\n",
    "print(\"The compression ratio |T|/|T′| for trajectory 010-20081016113953, using TS-greedy for epsilon = 0.03, is: \")\n",
    "print(len(t2)/len(t2_star_003))"
   ]
  },
  {
   "cell_type": "code",
   "execution_count": 15,
   "metadata": {
    "colab": {
     "base_uri": "https://localhost:8080/"
    },
    "id": "427hXoN7P9Qt",
    "outputId": "36790a01-6f68-43bc-baf4-5e4abd38dcc1"
   },
   "outputs": [
    {
     "name": "stdout",
     "output_type": "stream",
     "text": [
      "The compression ratio |T|/|T′| for trajectory 115-20080520225850, using TS-greedy for epsilon = 0.03, is: \n",
      "19.558823529411764\n"
     ]
    }
   ],
   "source": [
    "# compression ratio |T|/|T′| for trajectory 115-20080520225850, using TS-greedy for epsilon = 0.03\n",
    "# filter out trajectory ID 115-20080520225850\n",
    "trajec3 = df[df[\"id_\" ] == \"115-20080520225850\"]\n",
    "t3 = list(zip(trajec3.x, trajec3.y))\n",
    "t3_star_003 = TS_greedy(t3, 0.03)\n",
    "print(\"The compression ratio |T|/|T′| for trajectory 115-20080520225850, using TS-greedy for epsilon = 0.03, is: \")\n",
    "print(len(t3)/len(t3_star_003))"
   ]
  },
  {
   "cell_type": "code",
   "execution_count": 16,
   "metadata": {
    "colab": {
     "base_uri": "https://localhost:8080/"
    },
    "id": "LHDhEdnlP9Nt",
    "outputId": "bebf06fb-5a3c-43c2-fc7d-53de7de14f79"
   },
   "outputs": [
    {
     "name": "stdout",
     "output_type": "stream",
     "text": [
      "The compression ratio |T|/|T′| for trajectory 115-20080615225707, using TS-greedy for epsilon = 0.03, is: \n",
      "21.205882352941178\n"
     ]
    }
   ],
   "source": [
    "# compression ratio |T|/|T′| for trajectory 115-20080615225707, using TS-greedy for epsilon = 0.03\n",
    "# filter out trajectory ID 115-20080615225707\n",
    "trajec4 = df[df[\"id_\" ] == \"115-20080615225707\"]\n",
    "t4 = list(zip(trajec4.x, trajec4.y))\n",
    "t4_star_003 = TS_greedy(t4, 0.03)\n",
    "print(\"The compression ratio |T|/|T′| for trajectory 115-20080615225707, using TS-greedy for epsilon = 0.03, is: \")\n",
    "print(len(t4)/len(t4_star_003)) "
   ]
  }
 ],
 "metadata": {
  "colab": {
   "provenance": []
  },
  "kernelspec": {
   "display_name": "Python 3 (ipykernel)",
   "language": "python",
   "name": "python3"
  },
  "language_info": {
   "codemirror_mode": {
    "name": "ipython",
    "version": 3
   },
   "file_extension": ".py",
   "mimetype": "text/x-python",
   "name": "python",
   "nbconvert_exporter": "python",
   "pygments_lexer": "ipython3",
   "version": "3.10.9"
  }
 },
 "nbformat": 4,
 "nbformat_minor": 1
}
