{
 "cells": [
  {
   "cell_type": "markdown",
   "id": "06ac311f",
   "metadata": {
    "id": "06ac311f",
    "tags": []
   },
   "source": [
    "# Trajectory Data Analysis\n",
    "\n",
    "This notebook contains the code for our group's trajectory data analysis."
   ]
  },
  {
   "cell_type": "code",
   "execution_count": 1,
   "id": "d589b846",
   "metadata": {
    "id": "d589b846",
    "tags": []
   },
   "outputs": [],
   "source": [
    "# dependencies\n",
    "\n",
    "import time\n",
    "import math\n",
    "import heapq\n",
    "import numpy as np\n",
    "import pandas as pd\n",
    "import seaborn as sns\n",
    "import matplotlib.pyplot as plt\n",
    "\n",
    "from tqdm.notebook import tqdm"
   ]
  },
  {
   "cell_type": "code",
   "execution_count": 2,
   "id": "fa6412a9",
   "metadata": {
    "id": "fa6412a9",
    "tags": []
   },
   "outputs": [],
   "source": [
    "# data\n",
    "\n",
    "cars_all = pd.read_csv('data/geolife-cars.csv')\n",
    "cars_10 = pd.read_csv('data/geolife-cars-ten-percent.csv')\n",
    "cars_30 = pd.read_csv('data/geolife-cars-thirty-percent.csv')\n",
    "cars_60 = pd.read_csv('data/geolife-cars-sixty-percent.csv')"
   ]
  },
  {
   "cell_type": "code",
   "execution_count": 3,
   "id": "50734163-a7db-4b9f-8fa5-d2e815476b26",
   "metadata": {
    "id": "50734163-a7db-4b9f-8fa5-d2e815476b26",
    "tags": []
   },
   "outputs": [],
   "source": [
    "# constants\n",
    "\n",
    "grid_size = 256\n",
    "hub_grid_size = 50\n",
    "\n",
    "euclid_dist = lambda a, b: sum((x - y) ** 2 for x, y in zip(a, b)) ** 0.5"
   ]
  },
  {
   "cell_type": "code",
   "execution_count": 4,
   "id": "d500947f-600f-4a8a-8494-e534870056a3",
   "metadata": {
    "id": "d500947f-600f-4a8a-8494-e534870056a3",
    "tags": []
   },
   "outputs": [],
   "source": [
    "# change to one of [cars_10, cars_30, cars_60] to run on subsamples\n",
    "dataset = cars_all"
   ]
  },
  {
   "cell_type": "markdown",
   "id": "da3e3b9a-3a97-400f-9e77-25898a96584c",
   "metadata": {
    "id": "da3e3b9a-3a97-400f-9e77-25898a96584c",
    "tags": []
   },
   "source": [
    "# Preprocessing\n",
    "\n",
    "Assign each point to a grid-mesh."
   ]
  },
  {
   "cell_type": "code",
   "execution_count": 5,
   "id": "55a9ed80-d8e7-4cf8-9172-213858a56db9",
   "metadata": {
    "id": "55a9ed80-d8e7-4cf8-9172-213858a56db9",
    "tags": []
   },
   "outputs": [
    {
     "name": "stdout",
     "output_type": "stream",
     "text": [
      "CPU times: user 796 ms, sys: 50.3 ms, total: 847 ms\n",
      "Wall time: 857 ms\n"
     ]
    }
   ],
   "source": [
    "%%time\n",
    "\n",
    "# meshgrid\n",
    "\n",
    "min_x, max_x = dataset.x.min(), dataset.x.max()\n",
    "min_y, max_y = dataset.y.min(), dataset.y.max()\n",
    "\n",
    "stride_x = (max_x - min_x) / grid_size\n",
    "stride_y = (max_y - min_y) / grid_size\n",
    "\n",
    "x_axis = np.linspace(min_x, max_x, hub_grid_size)\n",
    "y_axis = np.linspace(min_y, max_y, hub_grid_size)\n",
    "\n",
    "points = [(x, y) for x in x_axis for y in y_axis]\n",
    "\n",
    "def get_grid(point):\n",
    "    x = int((point[0] - min_x) // stride_x)\n",
    "    y = int((point[1] - min_y) // stride_y)\n",
    "    return (\n",
    "        x if x < grid_size else x - 1,\n",
    "        y if y < grid_size else y - 1\n",
    "    )\n",
    "\n",
    "# localize points\n",
    "\n",
    "grid = {(i, j): set() for i in range(grid_size) for j in range(grid_size)}\n",
    "\n",
    "for point in zip(dataset.x, dataset.y):\n",
    "    grid[get_grid(point)].add(point)\n"
   ]
  },
  {
   "cell_type": "markdown",
   "id": "768de1e8-d6d3-4195-b4d0-f778d96ced82",
   "metadata": {
    "id": "768de1e8-d6d3-4195-b4d0-f778d96ced82"
   },
   "source": [
    "# Density Function\n",
    "\n",
    "The density function is defined as the number of points in a given radius `r`."
   ]
  },
  {
   "cell_type": "code",
   "execution_count": 6,
   "id": "61290dc9-d46d-4653-9e79-bb11986ee747",
   "metadata": {
    "id": "61290dc9-d46d-4653-9e79-bb11986ee747",
    "tags": []
   },
   "outputs": [],
   "source": [
    "def density(point, hub_grid_size):\n",
    "    px, py = get_grid(point)\n",
    "    range_x = range_y = grid_size / hub_grid_size\n",
    "    \n",
    "    nearby_grids = [\n",
    "        grid.get((i, j), set())\n",
    "        for i in range(math.ceil(px - range_x/2), math.ceil(px + range_x/2 + 1))\n",
    "        for j in range(math.ceil(py - range_y/2), math.ceil(py + range_y/2 + 1))\n",
    "    ]\n",
    "    \n",
    "    neighbors = {p for g in nearby_grids for p in g}\n",
    "    \n",
    "    return len(neighbors) "
   ]
  },
  {
   "cell_type": "markdown",
   "id": "50ee6a6b-ee21-4976-a59f-ad33022e889b",
   "metadata": {
    "id": "50ee6a6b-ee21-4976-a59f-ad33022e889b"
   },
   "source": [
    "# Hub Function\n",
    "\n",
    "The hub function uses a greedy algorithm to estimate the optimal k-partition of the `all_points` set. It simplifies the problem by instead finding hubs centered on each element in `all_points`."
   ]
  },
  {
   "cell_type": "code",
   "execution_count": 7,
   "id": "71888ef2-9e45-4603-b39f-c768f055d525",
   "metadata": {
    "id": "71888ef2-9e45-4603-b39f-c768f055d525",
    "tags": []
   },
   "outputs": [],
   "source": [
    "def hubs(points, k, r):\n",
    "    \n",
    "    \n",
    "    densities = [density(p, hub_grid_size) for p in tqdm(points)]\n",
    "    ordered = [p for _, p in sorted(zip(densities, points), reverse=True)]\n",
    "    \n",
    "    hubs = set()\n",
    "    for p in ordered:\n",
    "        if all(euclid_dist(hub, p) > r for hub in hubs):\n",
    "            hubs.add(p)\n",
    "        \n",
    "        if len(hubs) >= k: break\n",
    "    \n",
    "    return hubs"
   ]
  },
  {
   "cell_type": "markdown",
   "id": "b9e8d92a-f097-47ee-88f7-ee786b76cd2e",
   "metadata": {
    "id": "b9e8d92a-f097-47ee-88f7-ee786b76cd2e"
   },
   "source": [
    "# Testing & Presentation\n"
   ]
  },
  {
   "cell_type": "markdown",
   "id": "a5fd90aa-9ca0-4cd5-bcfb-753008c19430",
   "metadata": {
    "id": "a5fd90aa-9ca0-4cd5-bcfb-753008c19430"
   },
   "source": [
    "## Code Task One"
   ]
  },
  {
   "cell_type": "code",
   "execution_count": 19,
   "id": "92b3fc6b-6700-415e-b7a1-02bcf2c2e995",
   "metadata": {
    "colab": {
     "base_uri": "https://localhost:8080/",
     "height": 328,
     "referenced_widgets": [
      "618f58c065344c07b4e3a86141f24e79",
      "82586f89f4914ef9906c1dc865f99124",
      "4bc6aad2f6354f4483ddde1e5eca9c46",
      "5fc2d0429bb345f3a797f107e71e7e15",
      "3d18e994438c4d4188ce187df74684e2",
      "a9140c1974b04a49afa2e9a54e0ec404",
      "f5d1b15f66604d7593d53a88783764a1",
      "c856fc2d73e442a9817bbcdf1333ee62",
      "2d5c9a5aaa724f4997f79acee01b8ad3",
      "15922d1a01d1475e87e519a284623168",
      "67061dfe0cc0480f9f1de0b272e11703"
     ]
    },
    "id": "92b3fc6b-6700-415e-b7a1-02bcf2c2e995",
    "outputId": "37df4c22-2498-42c6-e9bc-368a2ec50f59",
    "tags": []
   },
   "outputs": [
    {
     "data": {
      "application/vnd.jupyter.widget-view+json": {
       "model_id": "da6572ec09194a6fb9ddbc45056de13b",
       "version_major": 2,
       "version_minor": 0
      },
      "text/plain": [
       "  0%|          | 0/2500 [00:00<?, ?it/s]"
      ]
     },
     "metadata": {},
     "output_type": "display_data"
    },
    {
     "data": {
      "image/png": "[encoded data removed]",
      "text/plain": [
       "<Figure size 936x432 with 1 Axes>"
      ]
     },
     "metadata": {
      "needs_background": "light"
     },
     "output_type": "display_data"
    }
   ],
   "source": [
    "hub = hubs(points, 10, 8)\n",
    "\n",
    "df_points = dataset[['x', 'y']]\n",
    "df_hubs = pd.DataFrame(hub, columns=['x', 'y'])\n",
    "\n",
    "\n",
    "plot = sns.scatterplot(data=df_points, x='x', y='y', label='Point', s = 20)\n",
    "plot = sns.scatterplot(data=df_hubs, x='x', y='y', label='Hub', s = 20)\n",
    "\n",
    "for x, y in hub:\n",
    "    circle = plt.Circle(xy = (x, y), radius=8, color='b', fill=False)\n",
    "    plot.add_patch(circle)\n",
    "    \n",
    "plot.axis('equal')\n",
    "\n",
    "plt.rcParams['figure.figsize']=(13,6)"
   ]
  },
  {
   "cell_type": "markdown",
   "id": "b14412ce-aa21-44ce-888b-848fbfdcf322",
   "metadata": {
    "id": "b14412ce-aa21-44ce-888b-848fbfdcf322"
   },
   "source": [
    "## Code Task Two"
   ]
  },
  {
   "cell_type": "code",
   "execution_count": 9,
   "id": "55382f7e-5289-47ce-a6c7-f641390692c8",
   "metadata": {
    "colab": {
     "referenced_widgets": [
      "f5ceb5b43af446bbb895618e05428024",
      "33d78315a856400bb90ccf937a5aa4dd",
      "15119875a4014597b67ce86ddd70936e",
      "9ec4600922384056809661f991b1d58f",
      "6fbe097e359244dca68e48b7141dd9cb",
      "9f0632fec8d0493a9ae87d487c457284",
      "9a632e65d6c04bc992f459a31649c725",
      "e07227ec57154716a21a837a1cd00af9",
      "d0aaed587d9f4a3aae25df352a377756",
      "380cdbeec9d94593b7e2045ffda4df6c",
      "2713d5da95c6426a9e39820b007b2a7a",
      "add2658de92d40229aaff1d3d7978e0c"
     ]
    },
    "id": "55382f7e-5289-47ce-a6c7-f641390692c8",
    "outputId": "4eb05982-3809-4df7-a9b4-8748ced90c7a",
    "tags": []
   },
   "outputs": [
    {
     "data": {
      "application/vnd.jupyter.widget-view+json": {
       "model_id": "a55cc430ad654cf192b5f01fa2fa4eed",
       "version_major": 2,
       "version_minor": 0
      },
      "text/plain": [
       "  0%|          | 0/2500 [00:00<?, ?it/s]"
      ]
     },
     "metadata": {},
     "output_type": "display_data"
    },
    {
     "data": {
      "application/vnd.jupyter.widget-view+json": {
       "model_id": "d58666b8427f46ccba387230e82a53d3",
       "version_major": 2,
       "version_minor": 0
      },
      "text/plain": [
       "  0%|          | 0/2500 [00:00<?, ?it/s]"
      ]
     },
     "metadata": {},
     "output_type": "display_data"
    },
    {
     "data": {
      "application/vnd.jupyter.widget-view+json": {
       "model_id": "2c5935c023bb452bae36afa42858e01c",
       "version_major": 2,
       "version_minor": 0
      },
      "text/plain": [
       "  0%|          | 0/2500 [00:00<?, ?it/s]"
      ]
     },
     "metadata": {},
     "output_type": "display_data"
    },
    {
     "name": "stdout",
     "output_type": "stream",
     "text": [
      "Avg runtime for k=5: 225.1048123333336 milliseconds\n"
     ]
    },
    {
     "data": {
      "application/vnd.jupyter.widget-view+json": {
       "model_id": "b50e2eb7f7ca4d8e91ad25e79ea9f8da",
       "version_major": 2,
       "version_minor": 0
      },
      "text/plain": [
       "  0%|          | 0/2500 [00:00<?, ?it/s]"
      ]
     },
     "metadata": {},
     "output_type": "display_data"
    },
    {
     "data": {
      "application/vnd.jupyter.widget-view+json": {
       "model_id": "a3690a023e8f4a8c9df8d9a69d8e93b8",
       "version_major": 2,
       "version_minor": 0
      },
      "text/plain": [
       "  0%|          | 0/2500 [00:00<?, ?it/s]"
      ]
     },
     "metadata": {},
     "output_type": "display_data"
    },
    {
     "data": {
      "application/vnd.jupyter.widget-view+json": {
       "model_id": "b9794c9af9cd40d49b23ecb391e0a61e",
       "version_major": 2,
       "version_minor": 0
      },
      "text/plain": [
       "  0%|          | 0/2500 [00:00<?, ?it/s]"
      ]
     },
     "metadata": {},
     "output_type": "display_data"
    },
    {
     "name": "stdout",
     "output_type": "stream",
     "text": [
      "Avg runtime for k=10: 195.89576933333436 milliseconds\n"
     ]
    },
    {
     "data": {
      "application/vnd.jupyter.widget-view+json": {
       "model_id": "1bb1d429ecfa451b853b2af51584f3d0",
       "version_major": 2,
       "version_minor": 0
      },
      "text/plain": [
       "  0%|          | 0/2500 [00:00<?, ?it/s]"
      ]
     },
     "metadata": {},
     "output_type": "display_data"
    },
    {
     "data": {
      "application/vnd.jupyter.widget-view+json": {
       "model_id": "194f21d02e9e40a5a330ce9df8acd07b",
       "version_major": 2,
       "version_minor": 0
      },
      "text/plain": [
       "  0%|          | 0/2500 [00:00<?, ?it/s]"
      ]
     },
     "metadata": {},
     "output_type": "display_data"
    },
    {
     "data": {
      "application/vnd.jupyter.widget-view+json": {
       "model_id": "c3958ce12f0d4cb087dd4cda94df8615",
       "version_major": 2,
       "version_minor": 0
      },
      "text/plain": [
       "  0%|          | 0/2500 [00:00<?, ?it/s]"
      ]
     },
     "metadata": {},
     "output_type": "display_data"
    },
    {
     "name": "stdout",
     "output_type": "stream",
     "text": [
      "Avg runtime for k=20: 217.59527400000067 milliseconds\n"
     ]
    },
    {
     "data": {
      "application/vnd.jupyter.widget-view+json": {
       "model_id": "f045bcf473d545f1ad770984567255a9",
       "version_major": 2,
       "version_minor": 0
      },
      "text/plain": [
       "  0%|          | 0/2500 [00:00<?, ?it/s]"
      ]
     },
     "metadata": {},
     "output_type": "display_data"
    },
    {
     "data": {
      "application/vnd.jupyter.widget-view+json": {
       "model_id": "59b376b0de6349d382aa1dd729b7b58f",
       "version_major": 2,
       "version_minor": 0
      },
      "text/plain": [
       "  0%|          | 0/2500 [00:00<?, ?it/s]"
      ]
     },
     "metadata": {},
     "output_type": "display_data"
    },
    {
     "data": {
      "application/vnd.jupyter.widget-view+json": {
       "model_id": "6b541966787a476bac1eaceea95d2c3e",
       "version_major": 2,
       "version_minor": 0
      },
      "text/plain": [
       "  0%|          | 0/2500 [00:00<?, ?it/s]"
      ]
     },
     "metadata": {},
     "output_type": "display_data"
    },
    {
     "name": "stdout",
     "output_type": "stream",
     "text": [
      "Avg runtime for k=40: 219.7451903333333 milliseconds\n"
     ]
    }
   ],
   "source": [
    "for k in [5, 10, 20, 40]:\n",
    "    total_time = 0\n",
    "    \n",
    "    for _ in range(3):\n",
    "        start_time = time.perf_counter()\n",
    "        \n",
    "        hub = hubs(points, k, 2)\n",
    "        \n",
    "        total_time += time.perf_counter() - start_time\n",
    "    \n",
    "    print(f'Avg runtime for k={k}: {total_time * 1000 / 3} milliseconds')"
   ]
  },
  {
   "cell_type": "markdown",
   "id": "a226d01b-f161-42cb-9e90-12e4c011235f",
   "metadata": {
    "id": "a226d01b-f161-42cb-9e90-12e4c011235f"
   },
   "source": [
    "## Code Task Three"
   ]
  },
  {
   "cell_type": "code",
   "execution_count": 10,
   "id": "a1749a78-01a0-4e32-9e42-eec04d01feda",
   "metadata": {
    "colab": {
     "referenced_widgets": [
      "b4ec0465db54457bacf2d73f593d92bd",
      "c722bc1c3e3f42a2ac36f8b13bad122a",
      "ef94617adcef4af08b7ae3b12b052096",
      "188f1201fa8d4bbe9295d01bd77b65ff"
     ]
    },
    "id": "a1749a78-01a0-4e32-9e42-eec04d01feda",
    "outputId": "75839ba8-006f-4b0b-85d3-13994ae66360"
   },
   "outputs": [
    {
     "data": {
      "application/vnd.jupyter.widget-view+json": {
       "model_id": "e92ce3d6a004424cb0e3b974ef0c43c7",
       "version_major": 2,
       "version_minor": 0
      },
      "text/plain": [
       "  0%|          | 0/2500 [00:00<?, ?it/s]"
      ]
     },
     "metadata": {},
     "output_type": "display_data"
    },
    {
     "name": "stdout",
     "output_type": "stream",
     "text": [
      "Avg runtime for k=40: 246.49451366666617 milliseconds\n"
     ]
    },
    {
     "data": {
      "application/vnd.jupyter.widget-view+json": {
       "model_id": "98ec9dcb8a9b47c082cd453eb6fbe31a",
       "version_major": 2,
       "version_minor": 0
      },
      "text/plain": [
       "  0%|          | 0/2500 [00:00<?, ?it/s]"
      ]
     },
     "metadata": {},
     "output_type": "display_data"
    },
    {
     "name": "stdout",
     "output_type": "stream",
     "text": [
      "Avg runtime for k=40: 282.82854033333274 milliseconds\n"
     ]
    },
    {
     "data": {
      "application/vnd.jupyter.widget-view+json": {
       "model_id": "0edafbd0ce44479c989d5697614061d6",
       "version_major": 2,
       "version_minor": 0
      },
      "text/plain": [
       "  0%|          | 0/2500 [00:00<?, ?it/s]"
      ]
     },
     "metadata": {},
     "output_type": "display_data"
    },
    {
     "name": "stdout",
     "output_type": "stream",
     "text": [
      "Avg runtime for k=40: 332.52384699999976 milliseconds\n"
     ]
    },
    {
     "data": {
      "application/vnd.jupyter.widget-view+json": {
       "model_id": "3cbfe9257dde4e1dacda1d854b566367",
       "version_major": 2,
       "version_minor": 0
      },
      "text/plain": [
       "  0%|          | 0/2500 [00:00<?, ?it/s]"
      ]
     },
     "metadata": {},
     "output_type": "display_data"
    },
    {
     "name": "stdout",
     "output_type": "stream",
     "text": [
      "Avg runtime for k=40: 406.9467369999996 milliseconds\n"
     ]
    }
   ],
   "source": [
    "for kind, ds in zip(['10', '30', '60', 'all'], [cars_10, cars_30, cars_60, cars_all]):\n",
    "    grid = {(i, j): set() for i in range(grid_size) for j in range(grid_size)}\n",
    "\n",
    "    for point in zip(ds.x, ds.y):\n",
    "        grid[get_grid(point)].add(point)\n",
    "    \n",
    "    \n",
    "    start_time = time.perf_counter()\n",
    "\n",
    "    hub = hubs(points, k, 2)\n",
    "\n",
    "    total_time += time.perf_counter() - start_time\n",
    "    \n",
    "    print(f'Avg runtime for k={k}: {total_time * 1000 / 3} milliseconds')"
   ]
  }
 ],
 "metadata": {
  "colab": {
   "provenance": []
  },
  "kernelspec": {
   "display_name": "Python 3 (ipykernel)",
   "language": "python",
   "name": "python3"
  },
  "language_info": {
   "codemirror_mode": {
    "name": "ipython",
    "version": 3
   },
   "file_extension": ".py",
   "mimetype": "text/x-python",
   "name": "python",
   "nbconvert_exporter": "python",
   "pygments_lexer": "ipython3",
   "version": "3.10.9"
  },
  "toc-autonumbering": true,
  "toc-showcode": true,
  "widgets": {
   "application/vnd.jupyter.widget-state+json": {
    "15922d1a01d1475e87e519a284623168": {
     "model_module": "@jupyter-widgets/base",
     "model_module_version": "1.2.0",
     "model_name": "LayoutModel",
     "state": {
      "_model_module": "@jupyter-widgets/base",
      "_model_module_version": "1.2.0",
      "_model_name": "LayoutModel",
      "_view_count": null,
      "_view_module": "@jupyter-widgets/base",
      "_view_module_version": "1.2.0",
      "_view_name": "LayoutView",
      "align_content": null,
      "align_items": null,
      "align_self": null,
      "border": null,
      "bottom": null,
      "display": null,
      "flex": null,
      "flex_flow": null,
      "grid_area": null,
      "grid_auto_columns": null,
      "grid_auto_flow": null,
      "grid_auto_rows": null,
      "grid_column": null,
      "grid_gap": null,
      "grid_row": null,
      "grid_template_areas": null,
      "grid_template_columns": null,
      "grid_template_rows": null,
      "height": null,
      "justify_content": null,
      "justify_items": null,
      "left": null,
      "margin": null,
      "max_height": null,
      "max_width": null,
      "min_height": null,
      "min_width": null,
      "object_fit": null,
      "object_position": null,
      "order": null,
      "overflow": null,
      "overflow_x": null,
      "overflow_y": null,
      "padding": null,
      "right": null,
      "top": null,
      "visibility": null,
      "width": null
     }
    },
    "2d5c9a5aaa724f4997f79acee01b8ad3": {
     "model_module": "@jupyter-widgets/controls",
     "model_module_version": "1.5.0",
     "model_name": "ProgressStyleModel",
     "state": {
      "_model_module": "@jupyter-widgets/controls",
      "_model_module_version": "1.5.0",
      "_model_name": "ProgressStyleModel",
      "_view_count": null,
      "_view_module": "@jupyter-widgets/base",
      "_view_module_version": "1.2.0",
      "_view_name": "StyleView",
      "bar_color": null,
      "description_width": ""
     }
    },
    "3d18e994438c4d4188ce187df74684e2": {
     "model_module": "@jupyter-widgets/base",
     "model_module_version": "1.2.0",
     "model_name": "LayoutModel",
     "state": {
      "_model_module": "@jupyter-widgets/base",
      "_model_module_version": "1.2.0",
      "_model_name": "LayoutModel",
      "_view_count": null,
      "_view_module": "@jupyter-widgets/base",
      "_view_module_version": "1.2.0",
      "_view_name": "LayoutView",
      "align_content": null,
      "align_items": null,
      "align_self": null,
      "border": null,
      "bottom": null,
      "display": null,
      "flex": null,
      "flex_flow": null,
      "grid_area": null,
      "grid_auto_columns": null,
      "grid_auto_flow": null,
      "grid_auto_rows": null,
      "grid_column": null,
      "grid_gap": null,
      "grid_row": null,
      "grid_template_areas": null,
      "grid_template_columns": null,
      "grid_template_rows": null,
      "height": null,
      "justify_content": null,
      "justify_items": null,
      "left": null,
      "margin": null,
      "max_height": null,
      "max_width": null,
      "min_height": null,
      "min_width": null,
      "object_fit": null,
      "object_position": null,
      "order": null,
      "overflow": null,
      "overflow_x": null,
      "overflow_y": null,
      "padding": null,
      "right": null,
      "top": null,
      "visibility": null,
      "width": null
     }
    },
    "4bc6aad2f6354f4483ddde1e5eca9c46": {
     "model_module": "@jupyter-widgets/controls",
     "model_module_version": "1.5.0",
     "model_name": "FloatProgressModel",
     "state": {
      "_dom_classes": [],
      "_model_module": "@jupyter-widgets/controls",
      "_model_module_version": "1.5.0",
      "_model_name": "FloatProgressModel",
      "_view_count": null,
      "_view_module": "@jupyter-widgets/controls",
      "_view_module_version": "1.5.0",
      "_view_name": "ProgressView",
      "bar_style": "success",
      "description": "",
      "description_tooltip": null,
      "layout": "IPY_MODEL_c856fc2d73e442a9817bbcdf1333ee62",
      "max": 2500,
      "min": 0,
      "orientation": "horizontal",
      "style": "IPY_MODEL_2d5c9a5aaa724f4997f79acee01b8ad3",
      "value": 2500
     }
    },
    "5fc2d0429bb345f3a797f107e71e7e15": {
     "model_module": "@jupyter-widgets/controls",
     "model_module_version": "1.5.0",
     "model_name": "HTMLModel",
     "state": {
      "_dom_classes": [],
      "_model_module": "@jupyter-widgets/controls",
      "_model_module_version": "1.5.0",
      "_model_name": "HTMLModel",
      "_view_count": null,
      "_view_module": "@jupyter-widgets/controls",
      "_view_module_version": "1.5.0",
      "_view_name": "HTMLView",
      "description": "",
      "description_tooltip": null,
      "layout": "IPY_MODEL_15922d1a01d1475e87e519a284623168",
      "placeholder": "​",
      "style": "IPY_MODEL_67061dfe0cc0480f9f1de0b272e11703",
      "value": " 2500/2500 [00:00&lt;00:00, 8642.53it/s]"
     }
    },
    "618f58c065344c07b4e3a86141f24e79": {
     "model_module": "@jupyter-widgets/controls",
     "model_module_version": "1.5.0",
     "model_name": "HBoxModel",
     "state": {
      "_dom_classes": [],
      "_model_module": "@jupyter-widgets/controls",
      "_model_module_version": "1.5.0",
      "_model_name": "HBoxModel",
      "_view_count": null,
      "_view_module": "@jupyter-widgets/controls",
      "_view_module_version": "1.5.0",
      "_view_name": "HBoxView",
      "box_style": "",
      "children": [
       "IPY_MODEL_82586f89f4914ef9906c1dc865f99124",
       "IPY_MODEL_4bc6aad2f6354f4483ddde1e5eca9c46",
       "IPY_MODEL_5fc2d0429bb345f3a797f107e71e7e15"
      ],
      "layout": "IPY_MODEL_3d18e994438c4d4188ce187df74684e2"
     }
    },
    "67061dfe0cc0480f9f1de0b272e11703": {
     "model_module": "@jupyter-widgets/controls",
     "model_module_version": "1.5.0",
     "model_name": "DescriptionStyleModel",
     "state": {
      "_model_module": "@jupyter-widgets/controls",
      "_model_module_version": "1.5.0",
      "_model_name": "DescriptionStyleModel",
      "_view_count": null,
      "_view_module": "@jupyter-widgets/base",
      "_view_module_version": "1.2.0",
      "_view_name": "StyleView",
      "description_width": ""
     }
    },
    "82586f89f4914ef9906c1dc865f99124": {
     "model_module": "@jupyter-widgets/controls",
     "model_module_version": "1.5.0",
     "model_name": "HTMLModel",
     "state": {
      "_dom_classes": [],
      "_model_module": "@jupyter-widgets/controls",
      "_model_module_version": "1.5.0",
      "_model_name": "HTMLModel",
      "_view_count": null,
      "_view_module": "@jupyter-widgets/controls",
      "_view_module_version": "1.5.0",
      "_view_name": "HTMLView",
      "description": "",
      "description_tooltip": null,
      "layout": "IPY_MODEL_a9140c1974b04a49afa2e9a54e0ec404",
      "placeholder": "​",
      "style": "IPY_MODEL_f5d1b15f66604d7593d53a88783764a1",
      "value": "100%"
     }
    },
    "a9140c1974b04a49afa2e9a54e0ec404": {
     "model_module": "@jupyter-widgets/base",
     "model_module_version": "1.2.0",
     "model_name": "LayoutModel",
     "state": {
      "_model_module": "@jupyter-widgets/base",
      "_model_module_version": "1.2.0",
      "_model_name": "LayoutModel",
      "_view_count": null,
      "_view_module": "@jupyter-widgets/base",
      "_view_module_version": "1.2.0",
      "_view_name": "LayoutView",
      "align_content": null,
      "align_items": null,
      "align_self": null,
      "border": null,
      "bottom": null,
      "display": null,
      "flex": null,
      "flex_flow": null,
      "grid_area": null,
      "grid_auto_columns": null,
      "grid_auto_flow": null,
      "grid_auto_rows": null,
      "grid_column": null,
      "grid_gap": null,
      "grid_row": null,
      "grid_template_areas": null,
      "grid_template_columns": null,
      "grid_template_rows": null,
      "height": null,
      "justify_content": null,
      "justify_items": null,
      "left": null,
      "margin": null,
      "max_height": null,
      "max_width": null,
      "min_height": null,
      "min_width": null,
      "object_fit": null,
      "object_position": null,
      "order": null,
      "overflow": null,
      "overflow_x": null,
      "overflow_y": null,
      "padding": null,
      "right": null,
      "top": null,
      "visibility": null,
      "width": null
     }
    },
    "c856fc2d73e442a9817bbcdf1333ee62": {
     "model_module": "@jupyter-widgets/base",
     "model_module_version": "1.2.0",
     "model_name": "LayoutModel",
     "state": {
      "_model_module": "@jupyter-widgets/base",
      "_model_module_version": "1.2.0",
      "_model_name": "LayoutModel",
      "_view_count": null,
      "_view_module": "@jupyter-widgets/base",
      "_view_module_version": "1.2.0",
      "_view_name": "LayoutView",
      "align_content": null,
      "align_items": null,
      "align_self": null,
      "border": null,
      "bottom": null,
      "display": null,
      "flex": null,
      "flex_flow": null,
      "grid_area": null,
      "grid_auto_columns": null,
      "grid_auto_flow": null,
      "grid_auto_rows": null,
      "grid_column": null,
      "grid_gap": null,
      "grid_row": null,
      "grid_template_areas": null,
      "grid_template_columns": null,
      "grid_template_rows": null,
      "height": null,
      "justify_content": null,
      "justify_items": null,
      "left": null,
      "margin": null,
      "max_height": null,
      "max_width": null,
      "min_height": null,
      "min_width": null,
      "object_fit": null,
      "object_position": null,
      "order": null,
      "overflow": null,
      "overflow_x": null,
      "overflow_y": null,
      "padding": null,
      "right": null,
      "top": null,
      "visibility": null,
      "width": null
     }
    },
    "f5d1b15f66604d7593d53a88783764a1": {
     "model_module": "@jupyter-widgets/controls",
     "model_module_version": "1.5.0",
     "model_name": "DescriptionStyleModel",
     "state": {
      "_model_module": "@jupyter-widgets/controls",
      "_model_module_version": "1.5.0",
      "_model_name": "DescriptionStyleModel",
      "_view_count": null,
      "_view_module": "@jupyter-widgets/base",
      "_view_module_version": "1.2.0",
      "_view_name": "StyleView",
      "description_width": ""
     }
    }
   }
  }
 },
 "nbformat": 4,
 "nbformat_minor": 5
}
