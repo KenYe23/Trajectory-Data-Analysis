{
 "cells": [
  {
   "cell_type": "markdown",
   "id": "81768d41",
   "metadata": {},
   "source": [
    "# Task 4: Center Trajectories"
   ]
  },
  {
   "cell_type": "code",
   "execution_count": 1,
   "id": "531839f4",
   "metadata": {},
   "outputs": [],
   "source": [
    "#import\n",
    "import pandas as pd\n",
    "import seaborn as sns\n",
    "import matplotlib.pyplot as plt\n",
    "from typing import Tuple, List"
   ]
  },
  {
   "cell_type": "code",
   "execution_count": 13,
   "id": "c3ca9e5d",
   "metadata": {},
   "outputs": [
    {
     "name": "stdout",
     "output_type": "stream",
     "text": [
      "                  x             y\n",
      "count  1.326402e+06  1.326402e+06\n",
      "mean   4.163630e+00  4.668841e+00\n",
      "std    6.573106e+00  4.018217e+00\n",
      "min   -8.906148e+00 -5.148530e+00\n",
      "25%   -1.666201e+00  1.115242e-01\n",
      "50%    5.607740e+00  5.764501e+00\n",
      "75%    8.418568e+00  8.634062e+00\n",
      "max    1.768826e+01  1.891964e+01\n",
      "                  id_          x         y\n",
      "0  115-20080639247416  16.375738  0.323612\n",
      "1  115-20080639247416  16.350164  0.322686\n",
      "2  115-20080639247416  16.320867  0.321954\n",
      "3  115-20080639247416  16.292414  0.321813\n",
      "4  115-20080639247416  16.263141  0.320450\n",
      "1190\n"
     ]
    }
   ],
   "source": [
    "df = pd.read_csv('geolife-cars-upd8.csv')\n",
    "print(df.describe())\n",
    "print(df.head())\n",
    "print(len(df['id_'].unique()))"
   ]
  },
  {
   "cell_type": "markdown",
   "id": "32fab9ac",
   "metadata": {},
   "source": [
    "## Calculate e-simplifications"
   ]
  },
  {
   "cell_type": "code",
   "execution_count": 9,
   "id": "a97eb16d",
   "metadata": {},
   "outputs": [
    {
     "name": "stdout",
     "output_type": "stream",
     "text": [
      "[1349, 1113, 726, 1072, 1040, 1579, 1091, 782, 1128, 1174, 1752]\n"
     ]
    }
   ],
   "source": [
    "#List of trajectories to center\n",
    "t_list = {'115-20080527225031', '115-20080528230807', \n",
    "          '115-20080618225237', '115-20080624022857', \n",
    "          '115-20080626014331', '115-20080626224815',\n",
    "          '115-20080701030733', '115-20080701225507',\n",
    "          '115-20080702225600', '115-20080706230401', \n",
    "          '115-20080707230001'}\n",
    "\n",
    "#Sets of all 11 trajectories\n",
    "task4_set = []\n",
    "e_003_set = []\n",
    "e_03_set = []\n",
    "e_01_set = []\n",
    "\n",
    "for t_id in t_list:\n",
    "    trajec = df[df[\"id_\" ] == t_id]\n",
    "    t = list(zip(trajec.x, trajec.y))\n",
    "    task4_set.append(t)\n",
    "    e_003_set.append(TS_greedy(t, 0.03))\n",
    "    e_03_set.append(TS_greedy(t, 0.3))\n",
    "    e_01_set.append(TS_greedy(t, 0.1))\n",
    "\n",
    "set_len = []\n",
    "for trajec in task4_set:\n",
    "    set_len.append(len(trajec))\n",
    "print(set_len)"
   ]
  },
  {
   "cell_type": "markdown",
   "id": "1bc31051",
   "metadata": {},
   "source": [
    "## Approach 1"
   ]
  },
  {
   "cell_type": "code",
   "execution_count": 79,
   "id": "bcee5699",
   "metadata": {},
   "outputs": [],
   "source": [
    "#Parameter: a list of trajectories; type = List[List[Tuple[float, float]]]\n",
    "#Return: center trajectory, average distance, min total distance\n",
    "def center_I(trajectories):\n",
    "    arr = [[0 for _ in range(len(trajectories))] for _ in range(len(trajectories))]\n",
    "    minimum_total = float('inf')\n",
    "    center_index = 0\n",
    "    for i in range(len(trajectories)):\n",
    "        for j in range(len(trajectories)):\n",
    "            if arr[j][i] != 0: \n",
    "                arr[i][j] = arr[j][i]\n",
    "            else: \n",
    "                arr[i][j] = dtw(trajectories[i], trajectories[j])[0]\n",
    "            \n",
    "    for i in range(len(trajectories)):\n",
    "        temp = sum(arr[i])\n",
    "        if temp <= minimum_total: \n",
    "            minimum_total = temp\n",
    "            center_index = i\n",
    "    return minimum_total / (len(trajectories) - 1), trajectories[center_index], center_index"
   ]
  },
  {
   "cell_type": "code",
   "execution_count": 117,
   "id": "2ec1c55f",
   "metadata": {},
   "outputs": [
    {
     "name": "stdout",
     "output_type": "stream",
     "text": [
      "No simplification\n",
      "Average distance & the index of center trajectory:\n",
      "0.017645560697347767 5\n",
      "\n",
      "\n",
      "e = 0.03\n",
      "Average distance & the index of center trajectory:\n",
      "0.1893774570602302 5\n",
      "\n",
      "\n",
      "e = 0.3\n",
      "Average distance & the index of center trajectory:\n",
      "0.11237174167683964 9\n",
      "\n",
      "\n",
      "e = 0.1\n",
      "Average distance & the index of center trajectory:\n",
      "0.05907014299557377 9\n"
     ]
    }
   ],
   "source": [
    "#Checking every set\n",
    "print(\"No simplification\")\n",
    "avg_dis, approach_1, center_index = center_I(task4_set)\n",
    "print(\"Average distance & the index of center trajectory:\")\n",
    "print(avg_dis, center_index)\n",
    "print('\\n')\n",
    "\n",
    "print(\"e = 0.03\")\n",
    "avg_dis1, approach_11, center_index1 = center_I(e_003_set)\n",
    "print(\"Average distance & the index of center trajectory:\")\n",
    "print(avg_dis1, center_index1)\n",
    "print('\\n')\n",
    "\n",
    "print(\"e = 0.3\")\n",
    "avg_dis2, approach_12, center_index2 = center_I(e_03_set)\n",
    "print(\"Average distance & the index of center trajectory:\")\n",
    "print(avg_dis2, center_index2)\n",
    "print('\\n')\n",
    "\n",
    "print(\"e = 0.1\")\n",
    "avg_dis3, approach_13, center_index3 = center_I(e_01_set)\n",
    "print(\"Average distance & the index of center trajectory:\")\n",
    "print(avg_dis3, center_index3)"
   ]
  },
  {
   "cell_type": "markdown",
   "id": "b24e8a62",
   "metadata": {},
   "source": [
    "Center Trajectory in original set: index 5\n",
    "- e-0.03: index 5, average distance = 0.017645560697347767\n",
    "- e-0.1: index 9\n",
    "- e-0.3: index 9"
   ]
  },
  {
   "cell_type": "markdown",
   "id": "46517b25",
   "metadata": {},
   "source": [
    "## Approach 2"
   ]
  },
  {
   "cell_type": "code",
   "execution_count": 101,
   "id": "ac4b0adb",
   "metadata": {},
   "outputs": [
    {
     "name": "stdout",
     "output_type": "stream",
     "text": [
      "60\n"
     ]
    }
   ],
   "source": [
    "def find_center_trajectory(trajectories):\n",
    "    # Find the center trajectory in a set of trajectories\n",
    "    num_trajectories = len(trajectories)\n",
    "    num_time_steps = len(trajectories[0])\n",
    "    #num_time_steps = min(len(x) for x in trajectories ) # Assumes all trajectories have same number of time steps\n",
    "    total_speeds = [0] * num_time_steps  # To store the sum of speeds for each time step\n",
    "    \n",
    "    # Initialize an empty center trajectory\n",
    "    center_trajectory = []\n",
    "    for _ in range(num_time_steps):\n",
    "        center_trajectory.append((0, 0))  # Initialize with (0, 0) coordinates\n",
    "        \n",
    "    # Compute the weighted average trajectory\n",
    "    for trajectory in trajectories:\n",
    "        speed = 1 / len(trajectory)  # Speed of the object in the trajectory\n",
    "        for i, point in enumerate(trajectory):\n",
    "            x, y = point\n",
    "            avg_x, avg_y = center_trajectory[i]\n",
    "            avg_x += x * speed\n",
    "            avg_y += y * speed\n",
    "            center_trajectory[i] = (avg_x, avg_y)\n",
    "            total_speeds[i] += speed\n",
    "    \n",
    "    # Divide by the total speeds to get the weighted average\n",
    "    for i in range(num_time_steps):\n",
    "        avg_x, avg_y = center_trajectory[i]\n",
    "        avg_x /= total_speeds[i]\n",
    "        avg_y /= total_speeds[i]\n",
    "        center_trajectory[i] = (avg_x, avg_y)\n",
    "    \n",
    "    return center_trajectory\n",
    "\n",
    "find_center_trajectory(e_003_set)\n",
    "\n",
    "def find_center_trajectory2(trajectories):\n",
    "    # Find the center trajectory in a set of trajectories\n",
    "    num_trajectories = len(trajectories)\n",
    "    num_time_steps = len(trajectories[0])  # Assumes all trajectories have same number of time steps\n",
    "    \n",
    "    # Initialize an empty average trajectory\n",
    "    average_trajectory = []\n",
    "    for _ in range(num_time_steps):\n",
    "        average_trajectory.append((0, 0))  # Initialize with (0, 0) coordinates\n",
    "    \n",
    "    # Compute the average trajectory\n",
    "    for trajectory in trajectories:\n",
    "        for i, point in enumerate(trajectory):\n",
    "            x, y = point\n",
    "            avg_x, avg_y = average_trajectory[i]\n",
    "            avg_x += x / num_trajectories\n",
    "            avg_y += y / num_trajectories\n",
    "            average_trajectory[i] = (avg_x, avg_y)\n",
    "    \n",
    "    return average_trajectory\n",
    "approach_2 = find_center_trajectory2(e_003_set)"
   ]
  },
  {
   "cell_type": "code",
   "execution_count": 125,
   "id": "dc46d354",
   "metadata": {},
   "outputs": [
    {
     "data": {
      "image/png": "[encoded data removed]",
      "text/plain": [
       "<Figure size 720x432 with 1 Axes>"
      ]
     },
     "metadata": {
      "needs_background": "light"
     },
     "output_type": "display_data"
    }
   ],
   "source": [
    "points = approach_1\n",
    "\n",
    "x = [point[0] for point in points]\n",
    "y = [point[1] for point in points]\n",
    "\n",
    "# Create a figure and axes for the plot\n",
    "fig, ax = plt.subplots(figsize=(10,6))\n",
    "\n",
    "# Plot the trajectories using the plot() function\n",
    "ax.scatter(x, y, c='blue', label='Center Trajectory', s = 0.01)  # Use the c parameter to specify the color, marker parameter to specify the marker shape, and linestyle parameter to specify the line style\n",
    "\n",
    "# Set labels and title for the plot\n",
    "ax.set_xlabel('X-axis')\n",
    "ax.set_ylabel('Y-axis')\n",
    "ax.set_title('Plot of Trajectories')\n",
    "\n",
    "# Add a legend to the plot\n",
    "ax.legend()\n",
    "\n",
    "# Display the plot\n",
    "plt.show()"
   ]
  },
  {
   "cell_type": "code",
   "execution_count": 126,
   "id": "001d1815",
   "metadata": {},
   "outputs": [
    {
     "data": {
      "image/png": "[encoded data removed]",
      "text/plain": [
       "<Figure size 432x288 with 1 Axes>"
      ]
     },
     "metadata": {
      "needs_background": "light"
     },
     "output_type": "display_data"
    }
   ],
   "source": [
    "points = approach_11\n",
    "\n",
    "x = [point[0] for point in points]\n",
    "y = [point[1] for point in points]\n",
    "\n",
    "# Create a figure and axes for the plot\n",
    "fig, ax = plt.subplots()\n",
    "\n",
    "# Plot the trajectories using the plot() function\n",
    "ax.scatter(x, y, c='blue', label='Center Trajectory', s = 0.01)  # Use the c parameter to specify the color, marker parameter to specify the marker shape, and linestyle parameter to specify the line style\n",
    "\n",
    "# Set labels and title for the plot\n",
    "ax.set_xlabel('X-axis')\n",
    "ax.set_ylabel('Y-axis')\n",
    "ax.set_title('Plot of Trajectories')\n",
    "\n",
    "# Add a legend to the plot\n",
    "ax.legend()\n",
    "\n",
    "# Display the plot\n",
    "plt.show()"
   ]
  },
  {
   "cell_type": "markdown",
   "id": "6b8d4d29",
   "metadata": {},
   "source": [
    "Example: episilon = 0.03 and blue line is generated by approach 1"
   ]
  },
  {
   "cell_type": "code",
   "execution_count": 12,
   "id": "782d5f7d",
   "metadata": {},
   "outputs": [
    {
     "data": {
      "image/png": "[encoded data removed]",
      "text/plain": [
       "<Figure size 720x432 with 1 Axes>"
      ]
     },
     "metadata": {
      "needs_background": "light"
     },
     "output_type": "display_data"
    }
   ],
   "source": [
    "#list of my stupid little colors\n",
    "colors = ['salmon',\n",
    "'tomato',\n",
    "'darksalmon',\n",
    "'coral',\n",
    "'orangered',\n",
    "'lightsalmon',\n",
    "'sienna',\n",
    "'seashell',\n",
    "'chocolate',\n",
    "'saddlebrown', 'red' ]\n",
    "\n",
    "fig, ax = plt.subplots(figsize=(10,6))\n",
    "counter = 0\n",
    "for points in e_03_set:\n",
    "    x = [point[0] for point in points]\n",
    "    y = [point[1] for point in points]\n",
    "    ax.scatter(x, y, c=colors[counter], label='Trajectory', s = 0.5)  # Use the c parameter to specify the color, marker parameter to specify the marker shape, and linestyle parameter to specify the line style\n",
    "    counter = counter +1\n",
    "\n",
    "ax.set_xlabel('X-axis')\n",
    "ax.set_ylabel('Y-axis')\n",
    "ax.set_title('Plot of Trajectories')\n",
    "\n",
    "# Add a legend to the plot\n",
    "ax.legend()\n",
    "\n",
    "# Display the plot\n",
    "plt.show()"
   ]
  },
  {
   "cell_type": "code",
   "execution_count": 11,
   "id": "5707589a",
   "metadata": {},
   "outputs": [
    {
     "data": {
      "image/png": "[encoded data removed]",
      "text/plain": [
       "<Figure size 720x432 with 1 Axes>"
      ]
     },
     "metadata": {
      "needs_background": "light"
     },
     "output_type": "display_data"
    }
   ],
   "source": [
    "#list of my stupid little colors\n",
    "colors = ['salmon',\n",
    "'tomato',\n",
    "'darksalmon',\n",
    "'coral',\n",
    "'orangered',\n",
    "'lightsalmon',\n",
    "'sienna',\n",
    "'seashell',\n",
    "'chocolate',\n",
    "'saddlebrown', 'green' ]\n",
    "\n",
    "fig, ax = plt.subplots(figsize=(10,6))\n",
    "counter = 0\n",
    "for points in e_03_set:\n",
    "    x = [point[0] for point in points]\n",
    "    y = [point[1] for point in points]\n",
    "    ax.plot(x, y, c=colors[counter], label='Trajectories', markersize=0.005)  # Use the c parameter to specify the color, marker parameter to specify the marker shape, and linestyle parameter to specify the line style\n",
    "    counter = counter +1\n",
    "\n",
    "ax.set_xlabel('X-axis')\n",
    "ax.set_ylabel('Y-axis')\n",
    "ax.set_title('Plot of Trajectories')\n",
    "\n",
    "# Add a legend to the plot\n",
    "ax.legend()\n",
    "\n",
    "# Display the plot\n",
    "plt.show()"
   ]
  },
  {
   "cell_type": "code",
   "execution_count": null,
   "id": "39011702",
   "metadata": {},
   "outputs": [],
   "source": [
    "colors = ['salmon',\n",
    "'tomato',\n",
    "'darksalmon',\n",
    "'coral',\n",
    "'orangered',\n",
    "'lightsalmon',\n",
    "'sienna',\n",
    "'seashell',\n",
    "'chocolate',\n",
    "'saddlebrown', 'red' ]\n",
    "\n",
    "fig, ax = plt.subplots()\n",
    "counter = 0\n",
    "for points in e_003_set:\n",
    "    x = [point[0] for point in points]\n",
    "    y = [point[1] for point in points]\n",
    "    ax.plot(x, y, c=colors[counter], label='Trajectories', markersize=0.005)  # Use the c parameter to specify the color, marker parameter to specify the marker shape, and linestyle parameter to specify the line style\n",
    "    counter = counter +1\n",
    "\n",
    "points = approach_1\n",
    "\n",
    "x = [point[0] for point in points]\n",
    "y = [point[1] for point in points]\n",
    "\n",
    "# Create a figure and axes for the plot\n",
    "\n",
    "# Plot the trajectories using the plot() function\n",
    "ax.plot(x, y, c='blue', label='Trajectories', markersize=0.005) \n",
    "    \n",
    "\n",
    "ax.set_xlabel('X-axis')\n",
    "ax.set_ylabel('Y-axis')\n",
    "ax.set_title('Plot of Trajectories')\n",
    "\n",
    "# Add a legend to the plot\n",
    "ax.legend()\n",
    "\n",
    "# Display the plot\n",
    "plt.show()"
   ]
  },
  {
   "cell_type": "markdown",
   "id": "620e82ba",
   "metadata": {},
   "source": [
    "epsilon-simplification function:"
   ]
  },
  {
   "cell_type": "code",
   "execution_count": 8,
   "id": "54009e25",
   "metadata": {},
   "outputs": [],
   "source": [
    "#Import functions to calculate ε-simplications from Task 2\n",
    "\n",
    "def TS_greedy(T: List[Tuple[float, float]], eps: float) -> List[Tuple[float, float]]:\n",
    "    if len(T) < 3:\n",
    "        return T\n",
    "    else:\n",
    "        T_star = [T[0], T[-1]]\n",
    "        dmax = 0\n",
    "        index = 0\n",
    "        for i in range(1, len(T) - 1):\n",
    "            dis = d(T[i], T_star)\n",
    "            if dis > dmax:\n",
    "                index = i \n",
    "                dmax = dis\n",
    "        if dmax <= eps: \n",
    "            return T_star \n",
    "        else:\n",
    "            return TS_greedy(T[0:index], eps) + TS_greedy(T[index:], eps) \n",
    "        \n",
    "def d(q: Tuple[float, float], e: List[Tuple[float, float]]) -> float:\n",
    "    # Let the start point of e be a, and end point be b \n",
    "    a, b = e\n",
    "    dot_product = (q[0] - a[0]) * (b[0] - a[0]) + (q[1] - a[1]) * (b[1] - a[1])\n",
    "    ab_length_sq = (b[0] - a[0]) ** 2 + (b[1] - a[1]) ** 2\n",
    "    projection = dot_product / ab_length_sq\n",
    "    if projection <= 0:\n",
    "        return ((q[0] - a[0]) ** 2 + (q[1] - a[1]) ** 2) ** 0.5\n",
    "    elif projection >= 1:\n",
    "        return ((q[0] - b[0]) ** 2 + (q[1] - b[1]) ** 2) ** 0.5\n",
    "    else:\n",
    "        closest_x = a[0] + projection * (b[0] - a[0])\n",
    "        closest_y = a[1] + projection * (b[1] - a[1])\n",
    "        return ((q[0] - closest_x) ** 2 + (q[1] - closest_y) ** 2) ** 0.5"
   ]
  },
  {
   "cell_type": "markdown",
   "id": "75715214",
   "metadata": {},
   "source": [
    "dtw function:"
   ]
  },
  {
   "cell_type": "code",
   "execution_count": 7,
   "id": "9ba8d099",
   "metadata": {},
   "outputs": [],
   "source": [
    "def dist(a, b):\n",
    "    return ((a[0] - b[0]) ** 2 + (a[1] - b[1]) ** 2) ** 0.5\n",
    "\n",
    "def dtw(seriesA, seriesB):\n",
    "    m, n = len(seriesA) + 1, len(seriesB) + 1\n",
    "    dp = [[[float('inf'), set()] for _ in range(n)] for _ in range(m)]\n",
    "    dp[0][0] = [0, None]\n",
    "\n",
    "    for i in range(m - 1):\n",
    "        for j in range(n - 1):\n",
    "            curr = dp[i][j]\n",
    "            curr[0] += dist(seriesA[i], seriesB[j]) ** 2\n",
    "            if curr[0] < dp[i + 1][j][0]: dp[i + 1][j] = [curr[0], (i, j)]\n",
    "            if curr[0] < dp[i][j + 1][0]: dp[i][j + 1] = [curr[0], (i, j)]\n",
    "            if curr[0] < dp[i + 1][j + 1][0]: dp[i + 1][j + 1] = [curr[0], (i, j)]\n",
    "    \n",
    "    total_cost, last = dp[len(seriesA) - 1][len(seriesB) - 1]\n",
    "    \n",
    "    path = {(len(seriesA) - 1, len(seriesB) - 1)}\n",
    "    while last is not None:\n",
    "        path.add(last)\n",
    "        last = dp[last[0]][last[1]][1]\n",
    "\n",
    "    return total_cost / len(path), path"
   ]
  },
  {
   "cell_type": "code",
   "execution_count": null,
   "id": "052d2506",
   "metadata": {},
   "outputs": [],
   "source": [
    "def dtw2(seriesA, seriesB):\n",
    "    "
   ]
  }
 ],
 "metadata": {
  "kernelspec": {
   "display_name": "Python 3 (ipykernel)",
   "language": "python",
   "name": "python3"
  },
  "language_info": {
   "codemirror_mode": {
    "name": "ipython",
    "version": 3
   },
   "file_extension": ".py",
   "mimetype": "text/x-python",
   "name": "python",
   "nbconvert_exporter": "python",
   "pygments_lexer": "ipython3",
   "version": "3.9.12"
  }
 },
 "nbformat": 4,
 "nbformat_minor": 5
}
